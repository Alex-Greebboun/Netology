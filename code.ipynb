{
 "cells": [
  {
   "cell_type": "code",
   "execution_count": null,
   "metadata": {},
   "outputs": [],
   "source": [
    "# pip install matplotlib"
   ]
  },
  {
   "cell_type": "markdown",
   "metadata": {},
   "source": [
    "Подгружаю библиотеки"
   ]
  },
  {
   "cell_type": "code",
   "execution_count": 6,
   "metadata": {},
   "outputs": [],
   "source": [
    "import pandas as pd\n",
    "import numpy as np\n",
    "# import matplotlib.pyplot as pltgit status"
   ]
  },
  {
   "cell_type": "markdown",
   "metadata": {},
   "source": [
    "Загружаю файл с визитами Visits.csv"
   ]
  },
  {
   "cell_type": "code",
   "execution_count": 7,
   "metadata": {},
   "outputs": [],
   "source": [
    "visits = pd.read_csv('Visits.csv', sep=';')"
   ]
  },
  {
   "cell_type": "code",
   "execution_count": 8,
   "metadata": {},
   "outputs": [
    {
     "data": {
      "text/html": [
       "<div>\n",
       "<style scoped>\n",
       "    .dataframe tbody tr th:only-of-type {\n",
       "        vertical-align: middle;\n",
       "    }\n",
       "\n",
       "    .dataframe tbody tr th {\n",
       "        vertical-align: top;\n",
       "    }\n",
       "\n",
       "    .dataframe thead th {\n",
       "        text-align: right;\n",
       "    }\n",
       "</style>\n",
       "<table border=\"1\" class=\"dataframe\">\n",
       "  <thead>\n",
       "    <tr style=\"text-align: right;\">\n",
       "      <th></th>\n",
       "      <th>date</th>\n",
       "      <th>shop_id</th>\n",
       "      <th>stuff_id</th>\n",
       "      <th>Month</th>\n",
       "    </tr>\n",
       "  </thead>\n",
       "  <tbody>\n",
       "    <tr>\n",
       "      <th>0</th>\n",
       "      <td>13.07.2021</td>\n",
       "      <td>OF003018</td>\n",
       "      <td>OFFMR048</td>\n",
       "      <td>7</td>\n",
       "    </tr>\n",
       "    <tr>\n",
       "      <th>1</th>\n",
       "      <td>20.07.2021</td>\n",
       "      <td>OF003018</td>\n",
       "      <td>OFFMR048</td>\n",
       "      <td>7</td>\n",
       "    </tr>\n",
       "    <tr>\n",
       "      <th>2</th>\n",
       "      <td>27.07.2021</td>\n",
       "      <td>OF003018</td>\n",
       "      <td>OFFMR048</td>\n",
       "      <td>7</td>\n",
       "    </tr>\n",
       "  </tbody>\n",
       "</table>\n",
       "</div>"
      ],
      "text/plain": [
       "         date   shop_id  stuff_id  Month\n",
       "0  13.07.2021  OF003018  OFFMR048      7\n",
       "1  20.07.2021  OF003018  OFFMR048      7\n",
       "2  27.07.2021  OF003018  OFFMR048      7"
      ]
     },
     "execution_count": 8,
     "metadata": {},
     "output_type": "execute_result"
    }
   ],
   "source": [
    "visits.head(3)"
   ]
  },
  {
   "cell_type": "code",
   "execution_count": 45,
   "metadata": {},
   "outputs": [
    {
     "name": "stdout",
     "output_type": "stream",
     "text": [
      "<class 'pandas.core.frame.DataFrame'>\n",
      "RangeIndex: 104961 entries, 0 to 104960\n",
      "Data columns (total 4 columns):\n",
      " #   Column    Non-Null Count   Dtype \n",
      "---  ------    --------------   ----- \n",
      " 0   date      104961 non-null  object\n",
      " 1   shop_id   104961 non-null  object\n",
      " 2   stuff_id  104961 non-null  object\n",
      " 3   Month     104961 non-null  int64 \n",
      "dtypes: int64(1), object(3)\n",
      "memory usage: 3.2+ MB\n"
     ]
    }
   ],
   "source": [
    "visits.info()"
   ]
  },
  {
   "cell_type": "markdown",
   "metadata": {},
   "source": [
    "Загружаю справочник по id"
   ]
  },
  {
   "cell_type": "code",
   "execution_count": 11,
   "metadata": {},
   "outputs": [],
   "source": [
    "guide = pd.read_csv('Guide_shop_address.csv', sep=';')"
   ]
  },
  {
   "cell_type": "code",
   "execution_count": 12,
   "metadata": {},
   "outputs": [
    {
     "data": {
      "text/html": [
       "<div>\n",
       "<style scoped>\n",
       "    .dataframe tbody tr th:only-of-type {\n",
       "        vertical-align: middle;\n",
       "    }\n",
       "\n",
       "    .dataframe tbody tr th {\n",
       "        vertical-align: top;\n",
       "    }\n",
       "\n",
       "    .dataframe thead th {\n",
       "        text-align: right;\n",
       "    }\n",
       "</style>\n",
       "<table border=\"1\" class=\"dataframe\">\n",
       "  <thead>\n",
       "    <tr style=\"text-align: right;\">\n",
       "      <th></th>\n",
       "      <th>shop_id_sales</th>\n",
       "      <th>shop_id</th>\n",
       "      <th>shop_name</th>\n",
       "    </tr>\n",
       "  </thead>\n",
       "  <tbody>\n",
       "    <tr>\n",
       "      <th>0</th>\n",
       "      <td>45832</td>\n",
       "      <td>OF000086</td>\n",
       "      <td>C</td>\n",
       "    </tr>\n",
       "    <tr>\n",
       "      <th>1</th>\n",
       "      <td>45282</td>\n",
       "      <td>OF000090</td>\n",
       "      <td>C</td>\n",
       "    </tr>\n",
       "    <tr>\n",
       "      <th>2</th>\n",
       "      <td>37533</td>\n",
       "      <td>OF000106</td>\n",
       "      <td>C</td>\n",
       "    </tr>\n",
       "  </tbody>\n",
       "</table>\n",
       "</div>"
      ],
      "text/plain": [
       "   shop_id_sales   shop_id shop_name\n",
       "0          45832  OF000086         C\n",
       "1          45282  OF000090         C\n",
       "2          37533  OF000106         C"
      ]
     },
     "execution_count": 12,
     "metadata": {},
     "output_type": "execute_result"
    }
   ],
   "source": [
    "guide.head(3)"
   ]
  },
  {
   "cell_type": "code",
   "execution_count": 44,
   "metadata": {},
   "outputs": [
    {
     "name": "stdout",
     "output_type": "stream",
     "text": [
      "<class 'pandas.core.frame.DataFrame'>\n",
      "RangeIndex: 2950 entries, 0 to 2949\n",
      "Data columns (total 3 columns):\n",
      " #   Column         Non-Null Count  Dtype \n",
      "---  ------         --------------  ----- \n",
      " 0   shop_id_sales  2950 non-null   int64 \n",
      " 1   shop_id        2950 non-null   object\n",
      " 2   shop_name      2950 non-null   object\n",
      "dtypes: int64(1), object(2)\n",
      "memory usage: 69.3+ KB\n"
     ]
    }
   ],
   "source": [
    "guide.info(3)"
   ]
  },
  {
   "cell_type": "markdown",
   "metadata": {},
   "source": [
    "Объединяю таблицы "
   ]
  },
  {
   "cell_type": "code",
   "execution_count": 16,
   "metadata": {},
   "outputs": [],
   "source": [
    "visit_guide = pd.merge(left=visits, right=guide,  how='inner', on='shop_id')"
   ]
  },
  {
   "cell_type": "markdown",
   "metadata": {},
   "source": [
    "Проверяю кол-во строк в датасете"
   ]
  },
  {
   "cell_type": "code",
   "execution_count": 17,
   "metadata": {},
   "outputs": [
    {
     "name": "stdout",
     "output_type": "stream",
     "text": [
      "<class 'pandas.core.frame.DataFrame'>\n",
      "Int64Index: 104961 entries, 0 to 104960\n",
      "Data columns (total 6 columns):\n",
      " #   Column         Non-Null Count   Dtype \n",
      "---  ------         --------------   ----- \n",
      " 0   date           104961 non-null  object\n",
      " 1   shop_id        104961 non-null  object\n",
      " 2   stuff_id       104961 non-null  object\n",
      " 3   Month          104961 non-null  int64 \n",
      " 4   shop_id_sales  104961 non-null  int64 \n",
      " 5   shop_name      104961 non-null  object\n",
      "dtypes: int64(2), object(4)\n",
      "memory usage: 5.6+ MB\n"
     ]
    }
   ],
   "source": [
    "visit_guide.info()"
   ]
  },
  {
   "cell_type": "code",
   "execution_count": 46,
   "metadata": {},
   "outputs": [
    {
     "data": {
      "text/html": [
       "<div>\n",
       "<style scoped>\n",
       "    .dataframe tbody tr th:only-of-type {\n",
       "        vertical-align: middle;\n",
       "    }\n",
       "\n",
       "    .dataframe tbody tr th {\n",
       "        vertical-align: top;\n",
       "    }\n",
       "\n",
       "    .dataframe thead th {\n",
       "        text-align: right;\n",
       "    }\n",
       "</style>\n",
       "<table border=\"1\" class=\"dataframe\">\n",
       "  <thead>\n",
       "    <tr style=\"text-align: right;\">\n",
       "      <th></th>\n",
       "      <th>date</th>\n",
       "      <th>shop_id</th>\n",
       "      <th>stuff_id</th>\n",
       "      <th>Month</th>\n",
       "      <th>shop_id_sales</th>\n",
       "      <th>shop_name</th>\n",
       "    </tr>\n",
       "  </thead>\n",
       "  <tbody>\n",
       "    <tr>\n",
       "      <th>0</th>\n",
       "      <td>13.07.2021</td>\n",
       "      <td>OF003018</td>\n",
       "      <td>OFFMR048</td>\n",
       "      <td>7</td>\n",
       "      <td>55355</td>\n",
       "      <td>C</td>\n",
       "    </tr>\n",
       "    <tr>\n",
       "      <th>1</th>\n",
       "      <td>20.07.2021</td>\n",
       "      <td>OF003018</td>\n",
       "      <td>OFFMR048</td>\n",
       "      <td>7</td>\n",
       "      <td>55355</td>\n",
       "      <td>C</td>\n",
       "    </tr>\n",
       "    <tr>\n",
       "      <th>2</th>\n",
       "      <td>27.07.2021</td>\n",
       "      <td>OF003018</td>\n",
       "      <td>OFFMR048</td>\n",
       "      <td>7</td>\n",
       "      <td>55355</td>\n",
       "      <td>C</td>\n",
       "    </tr>\n",
       "  </tbody>\n",
       "</table>\n",
       "</div>"
      ],
      "text/plain": [
       "         date   shop_id  stuff_id  Month  shop_id_sales shop_name\n",
       "0  13.07.2021  OF003018  OFFMR048      7          55355         C\n",
       "1  20.07.2021  OF003018  OFFMR048      7          55355         C\n",
       "2  27.07.2021  OF003018  OFFMR048      7          55355         C"
      ]
     },
     "execution_count": 46,
     "metadata": {},
     "output_type": "execute_result"
    }
   ],
   "source": [
    "visit_guide.head(3)"
   ]
  },
  {
   "cell_type": "markdown",
   "metadata": {},
   "source": [
    "Группирую по месяцам и получаю кол-во визитов в месяц по каждой ТТ"
   ]
  },
  {
   "cell_type": "code",
   "execution_count": 19,
   "metadata": {},
   "outputs": [],
   "source": [
    "visit_count_by_month = visit_guide.groupby(['shop_id','stuff_id','Month','shop_id_sales']).count()"
   ]
  },
  {
   "cell_type": "markdown",
   "metadata": {},
   "source": [
    "Переименовываю столбец"
   ]
  },
  {
   "cell_type": "code",
   "execution_count": 22,
   "metadata": {},
   "outputs": [],
   "source": [
    "visit_count_by_month.rename(columns = {'date' : 'count_visits_by_month'}, inplace = True)"
   ]
  },
  {
   "cell_type": "code",
   "execution_count": 31,
   "metadata": {},
   "outputs": [],
   "source": [
    "visit_count_by_month = visit_count_by_month[['count_visits_by_month']].reset_index()"
   ]
  },
  {
   "cell_type": "code",
   "execution_count": 32,
   "metadata": {},
   "outputs": [
    {
     "data": {
      "text/html": [
       "<div>\n",
       "<style scoped>\n",
       "    .dataframe tbody tr th:only-of-type {\n",
       "        vertical-align: middle;\n",
       "    }\n",
       "\n",
       "    .dataframe tbody tr th {\n",
       "        vertical-align: top;\n",
       "    }\n",
       "\n",
       "    .dataframe thead th {\n",
       "        text-align: right;\n",
       "    }\n",
       "</style>\n",
       "<table border=\"1\" class=\"dataframe\">\n",
       "  <thead>\n",
       "    <tr style=\"text-align: right;\">\n",
       "      <th></th>\n",
       "      <th>shop_id</th>\n",
       "      <th>stuff_id</th>\n",
       "      <th>Month</th>\n",
       "      <th>shop_id_sales</th>\n",
       "      <th>count_visits_by_month</th>\n",
       "    </tr>\n",
       "  </thead>\n",
       "  <tbody>\n",
       "    <tr>\n",
       "      <th>0</th>\n",
       "      <td>OF000015</td>\n",
       "      <td>OFFMR039</td>\n",
       "      <td>10</td>\n",
       "      <td>206328</td>\n",
       "      <td>1</td>\n",
       "    </tr>\n",
       "    <tr>\n",
       "      <th>1</th>\n",
       "      <td>OF000015</td>\n",
       "      <td>OFFMR039</td>\n",
       "      <td>11</td>\n",
       "      <td>206328</td>\n",
       "      <td>5</td>\n",
       "    </tr>\n",
       "    <tr>\n",
       "      <th>2</th>\n",
       "      <td>OF000015</td>\n",
       "      <td>OFFMR039</td>\n",
       "      <td>12</td>\n",
       "      <td>206328</td>\n",
       "      <td>4</td>\n",
       "    </tr>\n",
       "    <tr>\n",
       "      <th>3</th>\n",
       "      <td>OF000015</td>\n",
       "      <td>OFFMR039</td>\n",
       "      <td>13</td>\n",
       "      <td>206328</td>\n",
       "      <td>1</td>\n",
       "    </tr>\n",
       "    <tr>\n",
       "      <th>4</th>\n",
       "      <td>OF000015</td>\n",
       "      <td>OFFMR039</td>\n",
       "      <td>14</td>\n",
       "      <td>206328</td>\n",
       "      <td>3</td>\n",
       "    </tr>\n",
       "  </tbody>\n",
       "</table>\n",
       "</div>"
      ],
      "text/plain": [
       "    shop_id  stuff_id  Month  shop_id_sales  count_visits_by_month\n",
       "0  OF000015  OFFMR039     10         206328                      1\n",
       "1  OF000015  OFFMR039     11         206328                      5\n",
       "2  OF000015  OFFMR039     12         206328                      4\n",
       "3  OF000015  OFFMR039     13         206328                      1\n",
       "4  OF000015  OFFMR039     14         206328                      3"
      ]
     },
     "execution_count": 32,
     "metadata": {},
     "output_type": "execute_result"
    }
   ],
   "source": [
    "visit_count_by_month.head()"
   ]
  },
  {
   "cell_type": "code",
   "execution_count": 36,
   "metadata": {},
   "outputs": [],
   "source": [
    "sales = pd.read_csv('Sales.csv', sep=';')"
   ]
  },
  {
   "cell_type": "code",
   "execution_count": 37,
   "metadata": {},
   "outputs": [
    {
     "data": {
      "text/html": [
       "<div>\n",
       "<style scoped>\n",
       "    .dataframe tbody tr th:only-of-type {\n",
       "        vertical-align: middle;\n",
       "    }\n",
       "\n",
       "    .dataframe tbody tr th {\n",
       "        vertical-align: top;\n",
       "    }\n",
       "\n",
       "    .dataframe thead th {\n",
       "        text-align: right;\n",
       "    }\n",
       "</style>\n",
       "<table border=\"1\" class=\"dataframe\">\n",
       "  <thead>\n",
       "    <tr style=\"text-align: right;\">\n",
       "      <th></th>\n",
       "      <th>Month</th>\n",
       "      <th>shop_id_sales</th>\n",
       "      <th>ChainName</th>\n",
       "      <th>FedDistrict</th>\n",
       "      <th>FedSubject</th>\n",
       "      <th>City_village</th>\n",
       "      <th>Other_Sales</th>\n",
       "      <th>Self_sales</th>\n",
       "    </tr>\n",
       "  </thead>\n",
       "  <tbody>\n",
       "    <tr>\n",
       "      <th>0</th>\n",
       "      <td>10</td>\n",
       "      <td>27880</td>\n",
       "      <td>A</td>\n",
       "      <td>CFO</td>\n",
       "      <td>33</td>\n",
       "      <td>1</td>\n",
       "      <td>47,98</td>\n",
       "      <td>3,64</td>\n",
       "    </tr>\n",
       "    <tr>\n",
       "      <th>1</th>\n",
       "      <td>10</td>\n",
       "      <td>27894</td>\n",
       "      <td>A</td>\n",
       "      <td>CFO</td>\n",
       "      <td>40</td>\n",
       "      <td>1</td>\n",
       "      <td>48,8</td>\n",
       "      <td>3,12</td>\n",
       "    </tr>\n",
       "    <tr>\n",
       "      <th>2</th>\n",
       "      <td>10</td>\n",
       "      <td>27897</td>\n",
       "      <td>A</td>\n",
       "      <td>NWFO</td>\n",
       "      <td>47</td>\n",
       "      <td>0</td>\n",
       "      <td>76,44</td>\n",
       "      <td>5,07</td>\n",
       "    </tr>\n",
       "  </tbody>\n",
       "</table>\n",
       "</div>"
      ],
      "text/plain": [
       "   Month  shop_id_sales ChainName FedDistrict FedSubject  City_village  \\\n",
       "0     10          27880         A         CFO         33             1   \n",
       "1     10          27894         A         CFO         40             1   \n",
       "2     10          27897         A        NWFO         47             0   \n",
       "\n",
       "  Other_Sales Self_sales  \n",
       "0       47,98       3,64  \n",
       "1        48,8       3,12  \n",
       "2       76,44       5,07  "
      ]
     },
     "execution_count": 37,
     "metadata": {},
     "output_type": "execute_result"
    }
   ],
   "source": [
    "sales.head(3)"
   ]
  },
  {
   "cell_type": "code",
   "execution_count": 35,
   "metadata": {},
   "outputs": [
    {
     "name": "stdout",
     "output_type": "stream",
     "text": [
      "<class 'pandas.core.frame.DataFrame'>\n",
      "RangeIndex: 379943 entries, 0 to 379942\n",
      "Data columns (total 8 columns):\n",
      " #   Column         Non-Null Count   Dtype \n",
      "---  ------         --------------   ----- \n",
      " 0   Month          379943 non-null  int64 \n",
      " 1   Shop_id_sales  379943 non-null  int64 \n",
      " 2   ChainName      379943 non-null  object\n",
      " 3   FedDistrict    379943 non-null  object\n",
      " 4   FedSubject     379943 non-null  object\n",
      " 5   City_village   379943 non-null  int64 \n",
      " 6   Other_Sales    379943 non-null  object\n",
      " 7   Self_sales     379943 non-null  object\n",
      "dtypes: int64(3), object(5)\n",
      "memory usage: 23.2+ MB\n"
     ]
    }
   ],
   "source": [
    "sales.info()"
   ]
  },
  {
   "cell_type": "code",
   "execution_count": 40,
   "metadata": {},
   "outputs": [],
   "source": [
    "df = pd.merge(left=sales, right=visit_count_by_month,  how='left', on=['shop_id_sales','Month'])\n"
   ]
  },
  {
   "cell_type": "code",
   "execution_count": 42,
   "metadata": {},
   "outputs": [
    {
     "data": {
      "text/html": [
       "<div>\n",
       "<style scoped>\n",
       "    .dataframe tbody tr th:only-of-type {\n",
       "        vertical-align: middle;\n",
       "    }\n",
       "\n",
       "    .dataframe tbody tr th {\n",
       "        vertical-align: top;\n",
       "    }\n",
       "\n",
       "    .dataframe thead th {\n",
       "        text-align: right;\n",
       "    }\n",
       "</style>\n",
       "<table border=\"1\" class=\"dataframe\">\n",
       "  <thead>\n",
       "    <tr style=\"text-align: right;\">\n",
       "      <th></th>\n",
       "      <th>Month</th>\n",
       "      <th>shop_id_sales</th>\n",
       "      <th>ChainName</th>\n",
       "      <th>FedDistrict</th>\n",
       "      <th>FedSubject</th>\n",
       "      <th>City_village</th>\n",
       "      <th>Other_Sales</th>\n",
       "      <th>Self_sales</th>\n",
       "      <th>shop_id</th>\n",
       "      <th>stuff_id</th>\n",
       "      <th>count_visits_by_month</th>\n",
       "    </tr>\n",
       "  </thead>\n",
       "  <tbody>\n",
       "    <tr>\n",
       "      <th>0</th>\n",
       "      <td>10</td>\n",
       "      <td>27880</td>\n",
       "      <td>A</td>\n",
       "      <td>CFO</td>\n",
       "      <td>33</td>\n",
       "      <td>1</td>\n",
       "      <td>47,98</td>\n",
       "      <td>3,64</td>\n",
       "      <td>OF019074</td>\n",
       "      <td>OFFMR029</td>\n",
       "      <td>8.0</td>\n",
       "    </tr>\n",
       "    <tr>\n",
       "      <th>1</th>\n",
       "      <td>10</td>\n",
       "      <td>27880</td>\n",
       "      <td>A</td>\n",
       "      <td>CFO</td>\n",
       "      <td>33</td>\n",
       "      <td>1</td>\n",
       "      <td>47,98</td>\n",
       "      <td>3,64</td>\n",
       "      <td>OF019074</td>\n",
       "      <td>OFFMR039</td>\n",
       "      <td>3.0</td>\n",
       "    </tr>\n",
       "    <tr>\n",
       "      <th>2</th>\n",
       "      <td>10</td>\n",
       "      <td>27894</td>\n",
       "      <td>A</td>\n",
       "      <td>CFO</td>\n",
       "      <td>40</td>\n",
       "      <td>1</td>\n",
       "      <td>48,8</td>\n",
       "      <td>3,12</td>\n",
       "      <td>OF018681</td>\n",
       "      <td>OFFMR064</td>\n",
       "      <td>5.0</td>\n",
       "    </tr>\n",
       "    <tr>\n",
       "      <th>3</th>\n",
       "      <td>10</td>\n",
       "      <td>27897</td>\n",
       "      <td>A</td>\n",
       "      <td>NWFO</td>\n",
       "      <td>47</td>\n",
       "      <td>0</td>\n",
       "      <td>76,44</td>\n",
       "      <td>5,07</td>\n",
       "      <td>NaN</td>\n",
       "      <td>NaN</td>\n",
       "      <td>NaN</td>\n",
       "    </tr>\n",
       "    <tr>\n",
       "      <th>4</th>\n",
       "      <td>10</td>\n",
       "      <td>27903</td>\n",
       "      <td>A</td>\n",
       "      <td>NWFO</td>\n",
       "      <td>47</td>\n",
       "      <td>0</td>\n",
       "      <td>44,34</td>\n",
       "      <td>2,2</td>\n",
       "      <td>NaN</td>\n",
       "      <td>NaN</td>\n",
       "      <td>NaN</td>\n",
       "    </tr>\n",
       "  </tbody>\n",
       "</table>\n",
       "</div>"
      ],
      "text/plain": [
       "   Month  shop_id_sales ChainName FedDistrict FedSubject  City_village  \\\n",
       "0     10          27880         A         CFO         33             1   \n",
       "1     10          27880         A         CFO         33             1   \n",
       "2     10          27894         A         CFO         40             1   \n",
       "3     10          27897         A        NWFO         47             0   \n",
       "4     10          27903         A        NWFO         47             0   \n",
       "\n",
       "  Other_Sales Self_sales   shop_id  stuff_id  count_visits_by_month  \n",
       "0       47,98       3,64  OF019074  OFFMR029                    8.0  \n",
       "1       47,98       3,64  OF019074  OFFMR039                    3.0  \n",
       "2        48,8       3,12  OF018681  OFFMR064                    5.0  \n",
       "3       76,44       5,07       NaN       NaN                    NaN  \n",
       "4       44,34        2,2       NaN       NaN                    NaN  "
      ]
     },
     "execution_count": 42,
     "metadata": {},
     "output_type": "execute_result"
    }
   ],
   "source": [
    "df.head()"
   ]
  },
  {
   "cell_type": "code",
   "execution_count": 43,
   "metadata": {},
   "outputs": [
    {
     "data": {
      "text/html": [
       "<div>\n",
       "<style scoped>\n",
       "    .dataframe tbody tr th:only-of-type {\n",
       "        vertical-align: middle;\n",
       "    }\n",
       "\n",
       "    .dataframe tbody tr th {\n",
       "        vertical-align: top;\n",
       "    }\n",
       "\n",
       "    .dataframe thead th {\n",
       "        text-align: right;\n",
       "    }\n",
       "</style>\n",
       "<table border=\"1\" class=\"dataframe\">\n",
       "  <thead>\n",
       "    <tr style=\"text-align: right;\">\n",
       "      <th></th>\n",
       "      <th>Month</th>\n",
       "      <th>shop_id_sales</th>\n",
       "      <th>City_village</th>\n",
       "      <th>count_visits_by_month</th>\n",
       "    </tr>\n",
       "  </thead>\n",
       "  <tbody>\n",
       "    <tr>\n",
       "      <th>count</th>\n",
       "      <td>380706.000000</td>\n",
       "      <td>380706.000000</td>\n",
       "      <td>380706.000000</td>\n",
       "      <td>26955.000000</td>\n",
       "    </tr>\n",
       "    <tr>\n",
       "      <th>mean</th>\n",
       "      <td>9.103111</td>\n",
       "      <td>158310.087524</td>\n",
       "      <td>0.481206</td>\n",
       "      <td>4.120683</td>\n",
       "    </tr>\n",
       "    <tr>\n",
       "      <th>std</th>\n",
       "      <td>3.749783</td>\n",
       "      <td>93939.489459</td>\n",
       "      <td>0.499647</td>\n",
       "      <td>2.371929</td>\n",
       "    </tr>\n",
       "    <tr>\n",
       "      <th>min</th>\n",
       "      <td>3.000000</td>\n",
       "      <td>27851.000000</td>\n",
       "      <td>0.000000</td>\n",
       "      <td>1.000000</td>\n",
       "    </tr>\n",
       "    <tr>\n",
       "      <th>25%</th>\n",
       "      <td>6.000000</td>\n",
       "      <td>51903.000000</td>\n",
       "      <td>0.000000</td>\n",
       "      <td>2.000000</td>\n",
       "    </tr>\n",
       "    <tr>\n",
       "      <th>50%</th>\n",
       "      <td>9.000000</td>\n",
       "      <td>201579.000000</td>\n",
       "      <td>0.000000</td>\n",
       "      <td>4.000000</td>\n",
       "    </tr>\n",
       "    <tr>\n",
       "      <th>75%</th>\n",
       "      <td>12.000000</td>\n",
       "      <td>211898.000000</td>\n",
       "      <td>1.000000</td>\n",
       "      <td>5.000000</td>\n",
       "    </tr>\n",
       "    <tr>\n",
       "      <th>max</th>\n",
       "      <td>15.000000</td>\n",
       "      <td>358051.000000</td>\n",
       "      <td>1.000000</td>\n",
       "      <td>14.000000</td>\n",
       "    </tr>\n",
       "  </tbody>\n",
       "</table>\n",
       "</div>"
      ],
      "text/plain": [
       "               Month  shop_id_sales   City_village  count_visits_by_month\n",
       "count  380706.000000  380706.000000  380706.000000           26955.000000\n",
       "mean        9.103111  158310.087524       0.481206               4.120683\n",
       "std         3.749783   93939.489459       0.499647               2.371929\n",
       "min         3.000000   27851.000000       0.000000               1.000000\n",
       "25%         6.000000   51903.000000       0.000000               2.000000\n",
       "50%         9.000000  201579.000000       0.000000               4.000000\n",
       "75%        12.000000  211898.000000       1.000000               5.000000\n",
       "max        15.000000  358051.000000       1.000000              14.000000"
      ]
     },
     "execution_count": 43,
     "metadata": {},
     "output_type": "execute_result"
    }
   ],
   "source": [
    "df.describe()"
   ]
  }
 ],
 "metadata": {
  "interpreter": {
   "hash": "ea928f5d67c4c93314bde902f9925b00b35f33a7a7fd46f2f8b2a0108e4de065"
  },
  "kernelspec": {
   "display_name": "Python 3.10.2 64-bit",
   "language": "python",
   "name": "python3"
  },
  "language_info": {
   "codemirror_mode": {
    "name": "ipython",
    "version": 3
   },
   "file_extension": ".py",
   "mimetype": "text/x-python",
   "name": "python",
   "nbconvert_exporter": "python",
   "pygments_lexer": "ipython3",
   "version": "3.10.2"
  },
  "orig_nbformat": 4
 },
 "nbformat": 4,
 "nbformat_minor": 2
}
